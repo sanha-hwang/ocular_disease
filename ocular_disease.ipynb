{
  "nbformat": 4,
  "nbformat_minor": 0,
  "metadata": {
    "colab": {
      "name": "ocular_disease.ipynb",
      "provenance": [],
      "collapsed_sections": [],
      "authorship_tag": "ABX9TyMDkhhcPYtAPAAr/hWPFXZ7",
      "include_colab_link": true
    },
    "kernelspec": {
      "name": "python3",
      "display_name": "Python 3"
    },
    "language_info": {
      "name": "python"
    }
  },
  "cells": [
    {
      "cell_type": "markdown",
      "metadata": {
        "id": "view-in-github",
        "colab_type": "text"
      },
      "source": [
        "<a href=\"https://colab.research.google.com/github/sanha-hwang/ocular_disease/blob/main/ocular_disease.ipynb\" target=\"_parent\"><img src=\"https://colab.research.google.com/assets/colab-badge.svg\" alt=\"Open In Colab\"/></a>"
      ]
    },
    {
      "cell_type": "markdown",
      "metadata": {
        "id": "inUGRYHhJ7T9"
      },
      "source": [
        "<H1>Project4_level1: 목표\n",
        "\n",
        "1. 캐글에서 안구질환 인식 데이터를 받아 안구질환을 진단하는 모델을 만들어보자\n",
        "\n",
        "2. 5000명의 환자의 안저 사진 데이터가 있고 라벨로는\n",
        "일반 : N, 당뇨병 : D, 녹내장 : G, 백내장 : C, 연령 관련 황반변성 : A\n",
        "고혈압 : H, 병적 근시 : M, 기타 질병 / 이상 : O\n",
        "\n",
        "Normal (N),\n",
        "Diabetes (D),\n",
        "Glaucoma (G),\n",
        "Cataract (C),\n",
        "Age related Macular Degeneration (A),\n",
        "Hypertension (H),\n",
        "Pathological Myopia (M),\n",
        "Other diseases/abnormalities (O)\n",
        "\n",
        "3. 이미지 분류 잘하는 모델 만들기 목표 80프로 이상"
      ]
    },
    {
      "cell_type": "code",
      "metadata": {
        "id": "mb77Q1YacV93",
        "colab": {
          "base_uri": "https://localhost:8080/"
        },
        "outputId": "604e7e22-1c5e-4051-aaee-f29375d21a0c"
      },
      "source": [
        "from google.colab import drive\n",
        "drive.mount('/content/drive')"
      ],
      "execution_count": 1,
      "outputs": [
        {
          "output_type": "stream",
          "text": [
            "Mounted at /content/drive\n"
          ],
          "name": "stdout"
        }
      ]
    },
    {
      "cell_type": "code",
      "metadata": {
        "id": "04pXBATHIPzk"
      },
      "source": [
        "import numpy as np\n",
        "import pandas as pd\n",
        "import os\n",
        "import cv2\n",
        "import matplotlib.pyplot as plt\n",
        "from tqdm import tqdm\n",
        "\n",
        "import tensorflow\n",
        "from tensorflow import keras\n"
      ],
      "execution_count": 21,
      "outputs": []
    },
    {
      "cell_type": "code",
      "metadata": {
        "id": "ehWyRqDdm6By"
      },
      "source": [
        "base_dir = '/content/drive/MyDrive/Input/ocular-disease-recognition-odir-5k/ODIR-5K'\n",
        "\n",
        "train_dir = os.path.join(base_dir,'Training Images')\n",
        "dataset_path = os.path.join(base_dir,'data.xlsx')\n",
        "\n",
        "train_fname = os.listdir(train_dir)"
      ],
      "execution_count": 3,
      "outputs": []
    },
    {
      "cell_type": "code",
      "metadata": {
        "id": "bUnRhIuivwQX",
        "colab": {
          "base_uri": "https://localhost:8080/",
          "height": 293
        },
        "outputId": "34e7c242-e866-492b-d6ce-7501c3e69c74"
      },
      "source": [
        "dataset = pd.read_excel(dataset_path)\n",
        "dataset.head()"
      ],
      "execution_count": 4,
      "outputs": [
        {
          "output_type": "execute_result",
          "data": {
            "text/html": [
              "<div>\n",
              "<style scoped>\n",
              "    .dataframe tbody tr th:only-of-type {\n",
              "        vertical-align: middle;\n",
              "    }\n",
              "\n",
              "    .dataframe tbody tr th {\n",
              "        vertical-align: top;\n",
              "    }\n",
              "\n",
              "    .dataframe thead th {\n",
              "        text-align: right;\n",
              "    }\n",
              "</style>\n",
              "<table border=\"1\" class=\"dataframe\">\n",
              "  <thead>\n",
              "    <tr style=\"text-align: right;\">\n",
              "      <th></th>\n",
              "      <th>ID</th>\n",
              "      <th>Patient Age</th>\n",
              "      <th>Patient Sex</th>\n",
              "      <th>Left-Fundus</th>\n",
              "      <th>Right-Fundus</th>\n",
              "      <th>Left-Diagnostic Keywords</th>\n",
              "      <th>Right-Diagnostic Keywords</th>\n",
              "      <th>N</th>\n",
              "      <th>D</th>\n",
              "      <th>G</th>\n",
              "      <th>C</th>\n",
              "      <th>A</th>\n",
              "      <th>H</th>\n",
              "      <th>M</th>\n",
              "      <th>O</th>\n",
              "    </tr>\n",
              "  </thead>\n",
              "  <tbody>\n",
              "    <tr>\n",
              "      <th>0</th>\n",
              "      <td>0</td>\n",
              "      <td>69</td>\n",
              "      <td>Female</td>\n",
              "      <td>0_left.jpg</td>\n",
              "      <td>0_right.jpg</td>\n",
              "      <td>cataract</td>\n",
              "      <td>normal fundus</td>\n",
              "      <td>0</td>\n",
              "      <td>0</td>\n",
              "      <td>0</td>\n",
              "      <td>1</td>\n",
              "      <td>0</td>\n",
              "      <td>0</td>\n",
              "      <td>0</td>\n",
              "      <td>0</td>\n",
              "    </tr>\n",
              "    <tr>\n",
              "      <th>1</th>\n",
              "      <td>1</td>\n",
              "      <td>57</td>\n",
              "      <td>Male</td>\n",
              "      <td>1_left.jpg</td>\n",
              "      <td>1_right.jpg</td>\n",
              "      <td>normal fundus</td>\n",
              "      <td>normal fundus</td>\n",
              "      <td>1</td>\n",
              "      <td>0</td>\n",
              "      <td>0</td>\n",
              "      <td>0</td>\n",
              "      <td>0</td>\n",
              "      <td>0</td>\n",
              "      <td>0</td>\n",
              "      <td>0</td>\n",
              "    </tr>\n",
              "    <tr>\n",
              "      <th>2</th>\n",
              "      <td>2</td>\n",
              "      <td>42</td>\n",
              "      <td>Male</td>\n",
              "      <td>2_left.jpg</td>\n",
              "      <td>2_right.jpg</td>\n",
              "      <td>laser spot，moderate non proliferative retinopathy</td>\n",
              "      <td>moderate non proliferative retinopathy</td>\n",
              "      <td>0</td>\n",
              "      <td>1</td>\n",
              "      <td>0</td>\n",
              "      <td>0</td>\n",
              "      <td>0</td>\n",
              "      <td>0</td>\n",
              "      <td>0</td>\n",
              "      <td>1</td>\n",
              "    </tr>\n",
              "    <tr>\n",
              "      <th>3</th>\n",
              "      <td>3</td>\n",
              "      <td>66</td>\n",
              "      <td>Male</td>\n",
              "      <td>3_left.jpg</td>\n",
              "      <td>3_right.jpg</td>\n",
              "      <td>normal fundus</td>\n",
              "      <td>branch retinal artery occlusion</td>\n",
              "      <td>0</td>\n",
              "      <td>0</td>\n",
              "      <td>0</td>\n",
              "      <td>0</td>\n",
              "      <td>0</td>\n",
              "      <td>0</td>\n",
              "      <td>0</td>\n",
              "      <td>1</td>\n",
              "    </tr>\n",
              "    <tr>\n",
              "      <th>4</th>\n",
              "      <td>4</td>\n",
              "      <td>53</td>\n",
              "      <td>Male</td>\n",
              "      <td>4_left.jpg</td>\n",
              "      <td>4_right.jpg</td>\n",
              "      <td>macular epiretinal membrane</td>\n",
              "      <td>mild nonproliferative retinopathy</td>\n",
              "      <td>0</td>\n",
              "      <td>1</td>\n",
              "      <td>0</td>\n",
              "      <td>0</td>\n",
              "      <td>0</td>\n",
              "      <td>0</td>\n",
              "      <td>0</td>\n",
              "      <td>1</td>\n",
              "    </tr>\n",
              "  </tbody>\n",
              "</table>\n",
              "</div>"
            ],
            "text/plain": [
              "   ID  Patient Age Patient Sex Left-Fundus Right-Fundus  ...  C  A  H  M  O\n",
              "0   0           69      Female  0_left.jpg  0_right.jpg  ...  1  0  0  0  0\n",
              "1   1           57        Male  1_left.jpg  1_right.jpg  ...  0  0  0  0  0\n",
              "2   2           42        Male  2_left.jpg  2_right.jpg  ...  0  0  0  0  1\n",
              "3   3           66        Male  3_left.jpg  3_right.jpg  ...  0  0  0  0  1\n",
              "4   4           53        Male  4_left.jpg  4_right.jpg  ...  0  0  0  0  1\n",
              "\n",
              "[5 rows x 15 columns]"
            ]
          },
          "metadata": {
            "tags": []
          },
          "execution_count": 4
        }
      ]
    },
    {
      "cell_type": "code",
      "metadata": {
        "id": "IByqcUmAmcG0"
      },
      "source": [
        "#keyword로 labeling left, right 다르게\n",
        "def labeling(text):\n",
        "  text = text.lower()\n",
        "  if 'normal' in text:\n",
        "    return 0\n",
        "  elif 'diab' in text:\n",
        "    return 1\n",
        "  elif 'glau' in text:\n",
        "    return 2\n",
        "  elif 'catar' in text:\n",
        "    return 3\n",
        "  elif 'age' in text:\n",
        "    return 4\n",
        "  elif 'hyper' in text:\n",
        "    return 5 \n",
        "  elif 'myopia' in text:\n",
        "    return 6\n",
        "  else:\n",
        "    return 7\n",
        "\n",
        "def gender(text):\n",
        "  text = text.lower()\n",
        "  if 'male' in text:\n",
        "    return 0\n",
        "  elif 'female' in text:\n",
        "    return 1"
      ],
      "execution_count": null,
      "outputs": []
    },
    {
      "cell_type": "code",
      "metadata": {
        "id": "7KkDC4BRqm2p"
      },
      "source": [
        "from tensorflow.keras.preprocessing.image import load_img,img_to_array\n",
        "def image_to_pixel(image_dir, patient_ID):\n",
        "  left_image = str(patient_ID)+'_left.jpg'\n",
        "  right_image = str(patient_ID)+'_right.jpg'\n",
        "  one_image_dir = os.path.join(image_dir, patient_ID)\n",
        "imm = load_img(image_dir)\n",
        "re = img_to_array(imm)"
      ],
      "execution_count": 52,
      "outputs": []
    },
    {
      "cell_type": "code",
      "metadata": {
        "id": "2yADNuGNq03b",
        "outputId": "545cf4b1-fbbb-49d6-a5bc-0846b2e6c3b3",
        "colab": {
          "base_uri": "https://localhost:8080/"
        }
      },
      "source": [
        "(re != pix).sum()"
      ],
      "execution_count": 53,
      "outputs": [
        {
          "output_type": "execute_result",
          "data": {
            "text/plain": [
              "0"
            ]
          },
          "metadata": {
            "tags": []
          },
          "execution_count": 53
        }
      ]
    },
    {
      "cell_type": "code",
      "metadata": {
        "id": "l1oEXGC0dG_q"
      },
      "source": [
        "\n",
        "\n",
        "\n",
        "image_size=224\n",
        "labels = []\n",
        "dataset = []\n",
        "def create_dataset(image_category,label):\n",
        "    for img in tqdm(image_category):\n",
        "        image_path = os.path.join(dataset_dir,img)\n",
        "        try:\n",
        "            image = cv2.imread(image_path,cv2.IMREAD_COLOR)\n",
        "            image = cv2.resize(image,(image_size,image_size))\n",
        "        except:\n",
        "            continue\n",
        "        \n",
        "        dataset.append([np.array(image),np.array(label)])\n",
        "    random.shuffle(dataset)\n",
        "    return dataset"
      ],
      "execution_count": null,
      "outputs": []
    },
    {
      "cell_type": "code",
      "metadata": {
        "id": "pd95zqMBlPPg"
      },
      "source": [
        "x = np.array([i[0] for i in dataset]).reshape(-1,image_size,image_size,3)\n",
        "y = np.array([i[1] for i in dataset])"
      ],
      "execution_count": null,
      "outputs": []
    },
    {
      "cell_type": "code",
      "metadata": {
        "id": "KsFEHriyxYVD",
        "colab": {
          "base_uri": "https://localhost:8080/"
        },
        "outputId": "8649837e-357e-4218-ed93-21cb08abd00d"
      },
      "source": [
        "from sklearn.model_selection import train_test_split\n",
        "\n",
        "train_data, validation_data = train_test_split(dataset, test_size= 0.2, random_state= 42)\n",
        "\n",
        "train_data.shape, validation_data.shape"
      ],
      "execution_count": 5,
      "outputs": [
        {
          "output_type": "execute_result",
          "data": {
            "text/plain": [
              "((2800, 15), (700, 15))"
            ]
          },
          "metadata": {
            "tags": []
          },
          "execution_count": 5
        }
      ]
    },
    {
      "cell_type": "code",
      "metadata": {
        "id": "_fZ2Y4Bvoe7W"
      },
      "source": [
        "#번외편 이미지 한번 눈으로 확인해보기\n",
        "%matplotlib inline\n",
        "\n",
        "# import matplotlib.image as mpimg\n",
        "# import matplotlib.pyplot as plt\n",
        "\n",
        "# nrows, ncols = 4, 4\n",
        "# pic_index = 0\n",
        "\n",
        "# fig = plt.gcf()\n",
        "# fig.set_size_inches(ncols*3, nrows*3)\n",
        "\n",
        "# pic_index+=8\n",
        "\n",
        "# next_ocular_pix = [os.path.join(train_dir, fname)\n",
        "#                 for fname in train_fname[pic_index-8:pic_index]]\n",
        "\n",
        "# for i, img_path in enumerate(next_ocular_pix):\n",
        "#   sp = plt.subplot(nrows, ncols, i + 1)\n",
        "#   sp.axis('Off')\n",
        "#   img = mpimg.imread(img_path)\n",
        "#   plt.imshow(img)\n",
        "\n",
        "# plt.show()"
      ],
      "execution_count": 19,
      "outputs": []
    },
    {
      "cell_type": "code",
      "metadata": {
        "id": "HeK_4dTPUhwl",
        "outputId": "1ecab046-6cb2-4ce5-f4fc-153d74ee8951",
        "colab": {
          "base_uri": "https://localhost:8080/"
        }
      },
      "source": [
        "#Step. model define \n",
        "\n",
        "from keras.applications.resnet50 import ResNet50\n",
        "from tensorflow.python.keras.models import Sequential\n",
        "from tensorflow.python.keras.layers import Dense\n",
        "\n",
        "Num_classes = 8 # N, D, G, C, A, H, M, O\n",
        "\n",
        "channels = 3 # 입력 이미지의 차원수 : RBG\n",
        "\n",
        "#학습된 네트워크 Resnet50\n",
        "image_size =224\n",
        "resnet_pooling_average = 'avg'\n",
        "dense_layer_activation = 'softmax'\n",
        "objective_function = 'categorical_crossentropy'\n",
        "\n",
        "#출력 metrics\n",
        "loss_metrics = ['accuracy']\n",
        "\n",
        "#early_stop\n",
        "num_epochs = 10\n",
        "early_stop_patience = 3\n",
        "\n",
        "step_per_epoch_training = 10\n",
        "step_per_epoch_validation = 10 \n",
        "\n",
        "batch_size_training = 100\n",
        "batch_size_validation = 100\n",
        "\n",
        "batch_size_testing = 1\n",
        "\n",
        "#Step model making\n",
        "\n",
        "model = Sequential()\n",
        "model.add(ResNet50(include_top = False, pooling = resnet_pooling_average))\n",
        "model.add(Dense(Num_classes, activation = dense_layer_activation))\n",
        "\n",
        "for layer in model.layers:\n",
        "  layer.trainable = False\n",
        "\n",
        "#Step model compiler\n",
        "\n",
        "from tensorflow.keras import optimizers\n",
        "\n",
        "model.compile(optimizer = 'adam', loss = objective_function, metrics = loss_metrics)"
      ],
      "execution_count": 8,
      "outputs": [
        {
          "output_type": "stream",
          "text": [
            "Downloading data from https://storage.googleapis.com/tensorflow/keras-applications/resnet/resnet50_weights_tf_dim_ordering_tf_kernels_notop.h5\n",
            "94773248/94765736 [==============================] - 1s 0us/step\n"
          ],
          "name": "stdout"
        }
      ]
    },
    {
      "cell_type": "code",
      "metadata": {
        "id": "N4HTbgUBZFKY",
        "outputId": "306f99af-389d-49e7-dfc1-2f0e35077630",
        "colab": {
          "base_uri": "https://localhost:8080/",
          "height": 251
        }
      },
      "source": [
        "# Step input image resize & augmentation\n",
        "\n",
        "from keras.applications.resnet50 import preprocess_input\n",
        "from keras.preprocessing.image import ImageDataGenerator\n",
        "\n",
        "data_generator = ImageDataGenerator(\n",
        "    rescale = 1.0/255.,\n",
        "    preprocessing_function = preprocess_input,\n",
        "    featurewise_center = True,\n",
        "    featurewise_std_normalization = True,\n",
        "    rotation_state = 20,\n",
        "    width_sift_range = 0.2,\n",
        "    height_shift_range = 0.2,\n",
        "    horizontal_flip = True)\n",
        "\n",
        "train_generator = data_generator.flow_from_directory(trainset_dir,\n",
        "                                                     batch_size = batch_size_training,\n",
        "                                                     class_mode = 'categorical')\n",
        "\n",
        "validation_gen = ImageDataGenerator( rescale = 1.0/255.)\n",
        "validation_generator = validation_gen.flow_from_directory(validation_dir,\n",
        "                                                         batch_size = batch_size_training,\n",
        "                                                         class_mode = 'categorical')"
      ],
      "execution_count": 10,
      "outputs": [
        {
          "output_type": "error",
          "ename": "TypeError",
          "evalue": "ignored",
          "traceback": [
            "\u001b[0;31m---------------------------------------------------------------------------\u001b[0m",
            "\u001b[0;31mTypeError\u001b[0m                                 Traceback (most recent call last)",
            "\u001b[0;32m<ipython-input-10-bdb66b2c7224>\u001b[0m in \u001b[0;36m<module>\u001b[0;34m()\u001b[0m\n\u001b[1;32m     12\u001b[0m     \u001b[0mwidth_sift_range\u001b[0m \u001b[0;34m=\u001b[0m \u001b[0;36m0.2\u001b[0m\u001b[0;34m,\u001b[0m\u001b[0;34m\u001b[0m\u001b[0;34m\u001b[0m\u001b[0m\n\u001b[1;32m     13\u001b[0m     \u001b[0mheight_shift_range\u001b[0m \u001b[0;34m=\u001b[0m \u001b[0;36m0.2\u001b[0m\u001b[0;34m,\u001b[0m\u001b[0;34m\u001b[0m\u001b[0;34m\u001b[0m\u001b[0m\n\u001b[0;32m---> 14\u001b[0;31m     horizontal_flip = True)\n\u001b[0m\u001b[1;32m     15\u001b[0m \u001b[0;34m\u001b[0m\u001b[0m\n\u001b[1;32m     16\u001b[0m train_generator = data_generator.flow_from_directory(trainset_dir,\n",
            "\u001b[0;31mTypeError\u001b[0m: __init__() got an unexpected keyword argument 'rotation_state'"
          ]
        }
      ]
    },
    {
      "cell_type": "code",
      "metadata": {
        "id": "H3mKsYwzquBS"
      },
      "source": [
        "data_generator.fit(train_images)"
      ],
      "execution_count": null,
      "outputs": []
    },
    {
      "cell_type": "code",
      "metadata": {
        "id": "VIu85TBSacaJ"
      },
      "source": [
        "#Step model learning\n",
        "\n",
        "model.fit(data_generator.flow(train_images, train_label, batch_size = 32), step_per_epoch = len(train_images)/ 32, epochs= num_epochs)"
      ],
      "execution_count": null,
      "outputs": []
    }
  ]
}