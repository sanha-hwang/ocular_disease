{
  "nbformat": 4,
  "nbformat_minor": 0,
  "metadata": {
    "colab": {
      "name": "ocular_disease.ipynb",
      "provenance": [],
      "collapsed_sections": [],
      "authorship_tag": "ABX9TyPCLpp0v+nPKyODNmdxzZCH",
      "include_colab_link": true
    },
    "kernelspec": {
      "name": "python3",
      "display_name": "Python 3"
    },
    "language_info": {
      "name": "python"
    },
    "accelerator": "GPU"
  },
  "cells": [
    {
      "cell_type": "markdown",
      "metadata": {
        "id": "view-in-github",
        "colab_type": "text"
      },
      "source": [
        "<a href=\"https://colab.research.google.com/github/sanha-hwang/ocular_disease/blob/main/ocular_disease.ipynb\" target=\"_parent\"><img src=\"https://colab.research.google.com/assets/colab-badge.svg\" alt=\"Open In Colab\"/></a>"
      ]
    },
    {
      "cell_type": "markdown",
      "metadata": {
        "id": "inUGRYHhJ7T9"
      },
      "source": [
        "<H1>Project4_level1: 목표\n",
        "\n",
        "1. 캐글에서 안구질환 인식 데이터를 받아 안구질환을 진단하는 모델을 만들어보자\n",
        "\n",
        "2. 5000명의 환자의 안저 사진 데이터가 있고 라벨로는\n",
        "일반 : N, 당뇨병 : D, 녹내장 : G, 백내장 : C, 연령 관련 황반변성 : A\n",
        "고혈압 : H, 병적 근시 : M, 기타 질병 / 이상 : O\n",
        "\n",
        "Normal (N),\n",
        "Diabetes (D),\n",
        "Glaucoma (G),\n",
        "Cataract (C),\n",
        "Age related Macular Degeneration (A),\n",
        "Hypertension (H),\n",
        "Pathological Myopia (M),\n",
        "Other diseases/abnormalities (O)\n",
        "\n",
        "3. 이미지 분류 잘하는 모델 만들기 목표 80프로 이상"
      ]
    },
    {
      "cell_type": "code",
      "metadata": {
        "id": "mb77Q1YacV93",
        "colab": {
          "base_uri": "https://localhost:8080/"
        },
        "outputId": "a304f5b2-8787-470d-a07d-56b8ceddb30f"
      },
      "source": [
        "from google.colab import drive\n",
        "drive.mount('/content/drive')"
      ],
      "execution_count": 1,
      "outputs": [
        {
          "output_type": "stream",
          "text": [
            "Mounted at /content/drive\n"
          ],
          "name": "stdout"
        }
      ]
    },
    {
      "cell_type": "code",
      "metadata": {
        "id": "04pXBATHIPzk"
      },
      "source": [
        "import numpy as np\n",
        "import pandas as pd\n",
        "import os\n",
        "import cv2\n",
        "import matplotlib.pyplot as plt\n",
        "from tqdm import tqdm\n",
        "\n",
        "import tensorflow\n",
        "from tensorflow import keras\n"
      ],
      "execution_count": 2,
      "outputs": []
    },
    {
      "cell_type": "code",
      "metadata": {
        "id": "ehWyRqDdm6By"
      },
      "source": [
        "base_dir = '/content/drive/MyDrive/Input/ocular-disease-recognition-odir-5k/ODIR-5K'\n",
        "\n",
        "train_dir = os.path.join(base_dir,'Training Images')\n",
        "dataset_path = os.path.join(base_dir,'data.xlsx')\n",
        "\n",
        "# train_fname = os.listdir(train_dir)"
      ],
      "execution_count": 4,
      "outputs": []
    },
    {
      "cell_type": "code",
      "metadata": {
        "id": "bUnRhIuivwQX",
        "colab": {
          "base_uri": "https://localhost:8080/",
          "height": 415
        },
        "outputId": "66de51f9-fe20-4e96-8a42-dfae36c7ffa7"
      },
      "source": [
        "dataset = pd.read_excel(dataset_path)\n",
        "dataset.head(10)"
      ],
      "execution_count": 5,
      "outputs": [
        {
          "output_type": "execute_result",
          "data": {
            "text/html": [
              "<div>\n",
              "<style scoped>\n",
              "    .dataframe tbody tr th:only-of-type {\n",
              "        vertical-align: middle;\n",
              "    }\n",
              "\n",
              "    .dataframe tbody tr th {\n",
              "        vertical-align: top;\n",
              "    }\n",
              "\n",
              "    .dataframe thead th {\n",
              "        text-align: right;\n",
              "    }\n",
              "</style>\n",
              "<table border=\"1\" class=\"dataframe\">\n",
              "  <thead>\n",
              "    <tr style=\"text-align: right;\">\n",
              "      <th></th>\n",
              "      <th>ID</th>\n",
              "      <th>Patient Age</th>\n",
              "      <th>Patient Sex</th>\n",
              "      <th>Left-Fundus</th>\n",
              "      <th>Right-Fundus</th>\n",
              "      <th>Left-Diagnostic Keywords</th>\n",
              "      <th>Right-Diagnostic Keywords</th>\n",
              "      <th>N</th>\n",
              "      <th>D</th>\n",
              "      <th>G</th>\n",
              "      <th>C</th>\n",
              "      <th>A</th>\n",
              "      <th>H</th>\n",
              "      <th>M</th>\n",
              "      <th>O</th>\n",
              "    </tr>\n",
              "  </thead>\n",
              "  <tbody>\n",
              "    <tr>\n",
              "      <th>0</th>\n",
              "      <td>0</td>\n",
              "      <td>69</td>\n",
              "      <td>Female</td>\n",
              "      <td>0_left.jpg</td>\n",
              "      <td>0_right.jpg</td>\n",
              "      <td>cataract</td>\n",
              "      <td>normal fundus</td>\n",
              "      <td>0</td>\n",
              "      <td>0</td>\n",
              "      <td>0</td>\n",
              "      <td>1</td>\n",
              "      <td>0</td>\n",
              "      <td>0</td>\n",
              "      <td>0</td>\n",
              "      <td>0</td>\n",
              "    </tr>\n",
              "    <tr>\n",
              "      <th>1</th>\n",
              "      <td>1</td>\n",
              "      <td>57</td>\n",
              "      <td>Male</td>\n",
              "      <td>1_left.jpg</td>\n",
              "      <td>1_right.jpg</td>\n",
              "      <td>normal fundus</td>\n",
              "      <td>normal fundus</td>\n",
              "      <td>1</td>\n",
              "      <td>0</td>\n",
              "      <td>0</td>\n",
              "      <td>0</td>\n",
              "      <td>0</td>\n",
              "      <td>0</td>\n",
              "      <td>0</td>\n",
              "      <td>0</td>\n",
              "    </tr>\n",
              "    <tr>\n",
              "      <th>2</th>\n",
              "      <td>2</td>\n",
              "      <td>42</td>\n",
              "      <td>Male</td>\n",
              "      <td>2_left.jpg</td>\n",
              "      <td>2_right.jpg</td>\n",
              "      <td>laser spot，moderate non proliferative retinopathy</td>\n",
              "      <td>moderate non proliferative retinopathy</td>\n",
              "      <td>0</td>\n",
              "      <td>1</td>\n",
              "      <td>0</td>\n",
              "      <td>0</td>\n",
              "      <td>0</td>\n",
              "      <td>0</td>\n",
              "      <td>0</td>\n",
              "      <td>1</td>\n",
              "    </tr>\n",
              "    <tr>\n",
              "      <th>3</th>\n",
              "      <td>3</td>\n",
              "      <td>66</td>\n",
              "      <td>Male</td>\n",
              "      <td>3_left.jpg</td>\n",
              "      <td>3_right.jpg</td>\n",
              "      <td>normal fundus</td>\n",
              "      <td>branch retinal artery occlusion</td>\n",
              "      <td>0</td>\n",
              "      <td>0</td>\n",
              "      <td>0</td>\n",
              "      <td>0</td>\n",
              "      <td>0</td>\n",
              "      <td>0</td>\n",
              "      <td>0</td>\n",
              "      <td>1</td>\n",
              "    </tr>\n",
              "    <tr>\n",
              "      <th>4</th>\n",
              "      <td>4</td>\n",
              "      <td>53</td>\n",
              "      <td>Male</td>\n",
              "      <td>4_left.jpg</td>\n",
              "      <td>4_right.jpg</td>\n",
              "      <td>macular epiretinal membrane</td>\n",
              "      <td>mild nonproliferative retinopathy</td>\n",
              "      <td>0</td>\n",
              "      <td>1</td>\n",
              "      <td>0</td>\n",
              "      <td>0</td>\n",
              "      <td>0</td>\n",
              "      <td>0</td>\n",
              "      <td>0</td>\n",
              "      <td>1</td>\n",
              "    </tr>\n",
              "    <tr>\n",
              "      <th>5</th>\n",
              "      <td>5</td>\n",
              "      <td>50</td>\n",
              "      <td>Female</td>\n",
              "      <td>5_left.jpg</td>\n",
              "      <td>5_right.jpg</td>\n",
              "      <td>moderate non proliferative retinopathy</td>\n",
              "      <td>moderate non proliferative retinopathy</td>\n",
              "      <td>0</td>\n",
              "      <td>1</td>\n",
              "      <td>0</td>\n",
              "      <td>0</td>\n",
              "      <td>0</td>\n",
              "      <td>0</td>\n",
              "      <td>0</td>\n",
              "      <td>0</td>\n",
              "    </tr>\n",
              "    <tr>\n",
              "      <th>6</th>\n",
              "      <td>6</td>\n",
              "      <td>60</td>\n",
              "      <td>Male</td>\n",
              "      <td>6_left.jpg</td>\n",
              "      <td>6_right.jpg</td>\n",
              "      <td>macular epiretinal membrane</td>\n",
              "      <td>moderate non proliferative retinopathy，epireti...</td>\n",
              "      <td>0</td>\n",
              "      <td>1</td>\n",
              "      <td>0</td>\n",
              "      <td>0</td>\n",
              "      <td>0</td>\n",
              "      <td>0</td>\n",
              "      <td>0</td>\n",
              "      <td>1</td>\n",
              "    </tr>\n",
              "    <tr>\n",
              "      <th>7</th>\n",
              "      <td>7</td>\n",
              "      <td>60</td>\n",
              "      <td>Female</td>\n",
              "      <td>7_left.jpg</td>\n",
              "      <td>7_right.jpg</td>\n",
              "      <td>drusen</td>\n",
              "      <td>mild nonproliferative retinopathy</td>\n",
              "      <td>0</td>\n",
              "      <td>1</td>\n",
              "      <td>0</td>\n",
              "      <td>0</td>\n",
              "      <td>0</td>\n",
              "      <td>0</td>\n",
              "      <td>0</td>\n",
              "      <td>1</td>\n",
              "    </tr>\n",
              "    <tr>\n",
              "      <th>8</th>\n",
              "      <td>8</td>\n",
              "      <td>59</td>\n",
              "      <td>Male</td>\n",
              "      <td>8_left.jpg</td>\n",
              "      <td>8_right.jpg</td>\n",
              "      <td>normal fundus</td>\n",
              "      <td>normal fundus</td>\n",
              "      <td>1</td>\n",
              "      <td>0</td>\n",
              "      <td>0</td>\n",
              "      <td>0</td>\n",
              "      <td>0</td>\n",
              "      <td>0</td>\n",
              "      <td>0</td>\n",
              "      <td>0</td>\n",
              "    </tr>\n",
              "    <tr>\n",
              "      <th>9</th>\n",
              "      <td>9</td>\n",
              "      <td>54</td>\n",
              "      <td>Male</td>\n",
              "      <td>9_left.jpg</td>\n",
              "      <td>9_right.jpg</td>\n",
              "      <td>normal fundus</td>\n",
              "      <td>vitreous degeneration</td>\n",
              "      <td>0</td>\n",
              "      <td>0</td>\n",
              "      <td>0</td>\n",
              "      <td>0</td>\n",
              "      <td>0</td>\n",
              "      <td>0</td>\n",
              "      <td>0</td>\n",
              "      <td>1</td>\n",
              "    </tr>\n",
              "  </tbody>\n",
              "</table>\n",
              "</div>"
            ],
            "text/plain": [
              "   ID  Patient Age Patient Sex Left-Fundus Right-Fundus  ...  C  A  H  M  O\n",
              "0   0           69      Female  0_left.jpg  0_right.jpg  ...  1  0  0  0  0\n",
              "1   1           57        Male  1_left.jpg  1_right.jpg  ...  0  0  0  0  0\n",
              "2   2           42        Male  2_left.jpg  2_right.jpg  ...  0  0  0  0  1\n",
              "3   3           66        Male  3_left.jpg  3_right.jpg  ...  0  0  0  0  1\n",
              "4   4           53        Male  4_left.jpg  4_right.jpg  ...  0  0  0  0  1\n",
              "5   5           50      Female  5_left.jpg  5_right.jpg  ...  0  0  0  0  0\n",
              "6   6           60        Male  6_left.jpg  6_right.jpg  ...  0  0  0  0  1\n",
              "7   7           60      Female  7_left.jpg  7_right.jpg  ...  0  0  0  0  1\n",
              "8   8           59        Male  8_left.jpg  8_right.jpg  ...  0  0  0  0  0\n",
              "9   9           54        Male  9_left.jpg  9_right.jpg  ...  0  0  0  0  1\n",
              "\n",
              "[10 rows x 15 columns]"
            ]
          },
          "metadata": {
            "tags": []
          },
          "execution_count": 5
        }
      ]
    },
    {
      "cell_type": "code",
      "metadata": {
        "colab": {
          "base_uri": "https://localhost:8080/"
        },
        "id": "CPwg14qqzkB3",
        "outputId": "afc241b9-ce41-4524-ac15-b3e712b393f8"
      },
      "source": [
        "dataset.columns"
      ],
      "execution_count": 28,
      "outputs": [
        {
          "output_type": "execute_result",
          "data": {
            "text/plain": [
              "Index(['ID', 'Patient Age', 'Patient Sex', 'Left-Fundus', 'Right-Fundus',\n",
              "       'Left-Diagnostic Keywords', 'Right-Diagnostic Keywords', 'N', 'D', 'G',\n",
              "       'C', 'A', 'H', 'M', 'O'],\n",
              "      dtype='object')"
            ]
          },
          "metadata": {
            "tags": []
          },
          "execution_count": 28
        }
      ]
    },
    {
      "cell_type": "code",
      "metadata": {
        "id": "FUNZHRY4zXa1"
      },
      "source": [
        "patient_info = dataset.loc[:,['ID','Patient Age','Patient Sex']]"
      ],
      "execution_count": 30,
      "outputs": []
    },
    {
      "cell_type": "code",
      "metadata": {
        "id": "16J79PaazvLb"
      },
      "source": [
        "patient_info.head()"
      ],
      "execution_count": null,
      "outputs": []
    },
    {
      "cell_type": "code",
      "metadata": {
        "id": "ncKgz0V_z3lX"
      },
      "source": [
        "# male : 0, female : 1\n",
        "def gender(text):\n",
        "  text = text.lower()\n",
        "  if 'male' in text:\n",
        "    return 0\n",
        "  elif 'female' in text:\n",
        "    return 1\n",
        "\n",
        "patient_info['Patient Sex'] = patient_info['Patient Sex'].apply(gender)"
      ],
      "execution_count": 32,
      "outputs": []
    },
    {
      "cell_type": "code",
      "metadata": {
        "id": "vgpIVDzS0MeH"
      },
      "source": [
        "left_info = dataset.loc[:,['Left-Fundus','Left-Diagnostic Keywords']]\n",
        "right_info = dataset.loc[:,['Right-Fundus','Right-Diagnostic Keywords']]                      "
      ],
      "execution_count": 131,
      "outputs": []
    },
    {
      "cell_type": "code",
      "metadata": {
        "id": "oEyt_MHW3nsy"
      },
      "source": [
        "def label(data, where):\n",
        "  condition = where+'-Diagnostic Keywords'\n",
        "  data['N'] = data[condition].str.contains('normal').apply(int)\n",
        "  data['D'] = data[condition].str.contains('proliferative|diabe').apply(int)\n",
        "  data['G'] = data[condition].str.contains('glaucoma').apply(int)\n",
        "  data['C'] = data[condition].str.contains('cataract').apply(int)\n",
        "  data['A'] = data[condition].str.contains('age').apply(int)\n",
        "  data['H'] = data[condition].str.contains('hyper').apply(int)\n",
        "  data['M'] = data[condition].str.contains('myopia').apply(int)\n",
        "\n",
        "  for i in range(len(data)):\n",
        "    if data.loc[i,['N','D','G','C','A','H','M']].sum() ==0:\n",
        "      data.loc[i,['O']] = True\n",
        "    else:\n",
        "      data.loc[i,['O']] = False \n",
        "\n",
        "  data['O'] = data['O'].apply(int)\n",
        "\n",
        "label(left_info,'Left')\n",
        "label(right_info, 'Right')"
      ],
      "execution_count": 133,
      "outputs": []
    },
    {
      "cell_type": "code",
      "metadata": {
        "id": "3WcDD5eCXmSv"
      },
      "source": [
        "from keras.models import load_model\n",
        "\n",
        "# model.save('mnist_mlp_model.h5')"
      ],
      "execution_count": 2,
      "outputs": []
    },
    {
      "cell_type": "code",
      "metadata": {
        "id": "l1oEXGC0dG_q",
        "colab": {
          "base_uri": "https://localhost:8080/"
        },
        "outputId": "76ed35b6-48b5-48bf-ac43-1a2bbbd55bd7"
      },
      "source": [
        "import random\n",
        "image_size=224\n",
        "dataset = []\n",
        "\n",
        "for img in left_info['Left-Fundus'].values:\n",
        "  image_path = os.path.join(train_dir,img)\n",
        "  try:\n",
        "    image = cv2.imread(image_path,cv2.IMREAD_COLOR)\n",
        "    image = cv2.resize(image,(image_size,image_size))\n",
        "  except:\n",
        "    continue\n",
        "  condition = left_info['Left-Fundus'] == img\n",
        "  index = left_info[condition].index[0]\n",
        "  label = [left_info.loc[index,['N']].values[0],left_info.loc[index,['D']].values[0],left_info.loc[index,['G']].values[0],\n",
        "                             left_info.loc[index,['C']].values[0],left_info.loc[index,['A']].values[0], left_info.loc[index,['H']].values[0],\n",
        "                             left_info.loc[index,['M']].values[0], left_info.loc[index,['O']].values[0]]\n",
        "  dataset.append([np.array(image),np.array(label)])\n",
        "\n",
        "for img in right_info['Right-Fundus'].values:\n",
        "  image_path = os.path.join(train_dir,img)\n",
        "  try:\n",
        "    image = cv2.imread(image_path,cv2.IMREAD_COLOR)\n",
        "    image = cv2.resize(image,(image_size,image_size))\n",
        "  except:\n",
        "    continue\n",
        "  condition = right_info['Rightt-Fundus'] == img\n",
        "  index = right_info[condition].index[0]\n",
        "  label = [right_info.loc[index,['N']].values[0],right_info.loc[index,['D']].values[0],right_info.loc[index,['G']].values[0],\n",
        "                             right_info.loc[index,['C']].values[0],right_info.loc[index,['A']].values[0], right_info.loc[index,['H']].values[0],\n",
        "                             right_info.loc[index,['M']].values[0], right_info.loc[index,['O']].values[0]]\n",
        "  dataset.append([np.array(image),np.array(label)])\n",
        "\n",
        "random.shuffle(dataset)\n",
        "\n",
        "\n",
        "from sklearn.model_selection import train_test_split\n",
        "\n",
        "x = np.array([i[0] for i in dataset]).reshape(-1,image_size,image_size,3)\n",
        "y = np.array([i[1] for i in dataset])\n",
        "\n",
        "x_train,x_test,y_train,y_test = train_test_split(x,y, test_size= 0.2, random_state= 42)\n",
        "\n",
        "history = model.fit(x_train,y_train,batch_size=32,epochs=1,validation_data=(x_test,y_test),\n",
        "                    verbose=1) #,callbacks=[checkpoint,earlystop])\n",
        "\n"
      ],
      "execution_count": null,
      "outputs": [
        {
          "output_type": "stream",
          "text": [
            "/usr/local/lib/python3.7/dist-packages/pandas/core/internals/construction.py:305: VisibleDeprecationWarning: Creating an ndarray from ragged nested sequences (which is a list-or-tuple of lists-or-tuples-or ndarrays with different lengths or shapes) is deprecated. If you meant to do this, you must specify 'dtype=object' when creating the ndarray\n",
            "  values = np.array([convert(v) for v in values])\n"
          ],
          "name": "stderr"
        }
      ]
    },
    {
      "cell_type": "code",
      "metadata": {
        "id": "xgCdkAexYKDB"
      },
      "source": [
        "import numpy as np\n",
        "import pandas as pd\n",
        "import os\n",
        "import cv2\n",
        "from keras.models import load_model\n",
        "import tensorflow\n",
        "from tensorflow import keras\n",
        "from tensorflow.keras import optimizers\n",
        "import random\n",
        "from sklearn.model_selection import train_test_split\n",
        "from keras.applications.resnet50 import ResNet50\n",
        "from tensorflow.python.keras.models import Sequential\n",
        "from tensorflow.python.keras.layers import Dense\n",
        "\n",
        "#사용자정의함수\n",
        "def gender(text):\n",
        "  text = text.lower()\n",
        "  if 'male' in text:\n",
        "    return 0\n",
        "  elif 'female' in text:\n",
        "    return 1\n",
        "\n",
        "def label(data, where):\n",
        "  condition = where+'-Diagnostic Keywords'\n",
        "  data['N'] = data[condition].str.contains('normal').apply(int)\n",
        "  data['D'] = data[condition].str.contains('proliferative|diabe').apply(int)\n",
        "  data['G'] = data[condition].str.contains('glaucoma').apply(int)\n",
        "  data['C'] = data[condition].str.contains('cataract').apply(int)\n",
        "  data['A'] = data[condition].str.contains('age').apply(int)\n",
        "  data['H'] = data[condition].str.contains('hyper').apply(int)\n",
        "  data['M'] = data[condition].str.contains('myopia').apply(int)\n",
        "\n",
        "  for i in range(len(data)):\n",
        "    if data.loc[i,['N','D','G','C','A','H','M']].sum() ==0:\n",
        "      data.loc[i,['O']] = True\n",
        "    else:\n",
        "      data.loc[i,['O']] = False \n",
        "\n",
        "  data['O'] = data['O'].apply(int)\n",
        "\n",
        "#데이터 불러오기\n",
        "base_dir = '/content/drive/MyDrive/Input/ocular-disease-recognition-odir-5k/ODIR-5K'\n",
        "\n",
        "train_dir = os.path.join(base_dir,'Training Images')\n",
        "dataset_path = os.path.join(base_dir,'data.xlsx')\n",
        "dataset = pd.read_excel(dataset_path)\n",
        "\n",
        "#데이터전처리\n",
        "patient_info = dataset.loc[:,['ID','Patient Age','Patient Sex']]\n",
        "patient_info['Patient Sex'] = patient_info['Patient Sex'].apply(gender)\n",
        "\n",
        "left_info = dataset.loc[:,['Left-Fundus','Left-Diagnostic Keywords']]\n",
        "right_info = dataset.loc[:,['Right-Fundus','Right-Diagnostic Keywords']]\n",
        "label(left_info,'Left')\n",
        "label(right_info, 'Right')\n",
        "\n",
        "#데이터 모으기\n",
        "image_size=224\n",
        "dataset = []\n",
        "\n",
        "for img in left_info['Left-Fundus'].values:\n",
        "  image_path = os.path.join(train_dir,img)\n",
        "  try:\n",
        "    image = cv2.imread(image_path,cv2.IMREAD_COLOR)\n",
        "    image = cv2.resize(image,(image_size,image_size))\n",
        "  except:\n",
        "    continue\n",
        "  condition = left_info['Left-Fundus'] == img\n",
        "  index = left_info[condition].index[0]\n",
        "  label = [left_info.loc[index,['N']].values[0],left_info.loc[index,['D']].values[0],left_info.loc[index,['G']].values[0],\n",
        "                             left_info.loc[index,['C']].values[0],left_info.loc[index,['A']].values[0], left_info.loc[index,['H']].values[0],\n",
        "                             left_info.loc[index,['M']].values[0], left_info.loc[index,['O']].values[0]]\n",
        "  dataset.append([np.array(image),np.array(label)])\n",
        "\n",
        "for img in right_info['Right-Fundus'].values:\n",
        "  image_path = os.path.join(train_dir,img)\n",
        "  try:\n",
        "    image = cv2.imread(image_path,cv2.IMREAD_COLOR)\n",
        "    image = cv2.resize(image,(image_size,image_size))\n",
        "  except:\n",
        "    continue\n",
        "  condition = right_info['Rightt-Fundus'] == img\n",
        "  index = right_info[condition].index[0]\n",
        "  label = [right_info.loc[index,['N']].values[0],right_info.loc[index,['D']].values[0],right_info.loc[index,['G']].values[0],\n",
        "                             right_info.loc[index,['C']].values[0],right_info.loc[index,['A']].values[0], right_info.loc[index,['H']].values[0],\n",
        "                             right_info.loc[index,['M']].values[0], right_info.loc[index,['O']].values[0]]\n",
        "  dataset.append([np.array(image),np.array(label)])\n",
        "\n",
        "random.shuffle(dataset)\n",
        "\n",
        "#모델학습에 넣기 좋게 바꾸기\n",
        "x = np.array([i[0] for i in dataset]).reshape(-1,image_size,image_size,3)\n",
        "y = np.array([i[1] for i in dataset])\n",
        "\n",
        "x_train,x_test,y_train,y_test = train_test_split(x,y, test_size= 0.2, random_state= 42)\n",
        "\n",
        "\n",
        "#모델정의 변수들\n",
        "\n",
        "Num_classes = 8 # N, D, G, C, A, H, M, O\n",
        "\n",
        "channels = 3 # 입력 이미지의 차원수 : RBG\n",
        "\n",
        "  #학습된 네트워크 Resnet50\n",
        "image_size =224\n",
        "resnet_pooling_average = 'avg'\n",
        "dense_layer_activation = 'softmax'\n",
        "objective_function = 'categorical_crossentropy'\n",
        "\n",
        "  #출력 metrics\n",
        "loss_metrics = ['accuracy']\n",
        "\n",
        "  #early_stop\n",
        "num_epochs = 10\n",
        "early_stop_patience = 3\n",
        "\n",
        "step_per_epoch_training = 10\n",
        "step_per_epoch_validation = 10 \n",
        "\n",
        "batch_size_training = 100\n",
        "batch_size_validation = 100\n",
        "\n",
        "batch_size_testing = 1\n",
        "\n",
        "#모델 작성\n",
        "\n",
        "model = Sequential()\n",
        "model.add(ResNet50(include_top = False, pooling = resnet_pooling_average))\n",
        "model.add(Dense(Num_classes, activation = dense_layer_activation))\n",
        "\n",
        "for layer in model.layers:\n",
        "  layer.trainable = False\n",
        "\n",
        "#모델 컴파일러 정의\n",
        "\n",
        "model.compile(optimizer = 'adam', loss = objective_function, metrics = loss_metrics)\n",
        "\n",
        "#모델학습\n",
        "history = model.fit(x_train,y_train,batch_size=32,epochs=1,validation_data=(x_test,y_test),\n",
        "                    verbose=1) #,callbacks=[checkpoint,earlystop])\n",
        "\n",
        "#모델저장\n",
        "\n",
        "model.save('samplemodel.h5')"
      ],
      "execution_count": null,
      "outputs": []
    },
    {
      "cell_type": "code",
      "metadata": {
        "id": "HeK_4dTPUhwl",
        "colab": {
          "base_uri": "https://localhost:8080/"
        },
        "outputId": "39fd3045-5784-4cc7-8563-95b02887d730"
      },
      "source": [
        "#Step. model define \n",
        "\n",
        "from keras.applications.resnet50 import ResNet50\n",
        "from tensorflow.python.keras.models import Sequential\n",
        "from tensorflow.python.keras.layers import Dense\n",
        "\n",
        "Num_classes = 8 # N, D, G, C, A, H, M, O\n",
        "\n",
        "channels = 3 # 입력 이미지의 차원수 : RBG\n",
        "\n",
        "#학습된 네트워크 Resnet50\n",
        "image_size =224\n",
        "resnet_pooling_average = 'avg'\n",
        "dense_layer_activation = 'softmax'\n",
        "objective_function = 'categorical_crossentropy'\n",
        "\n",
        "#출력 metrics\n",
        "loss_metrics = ['accuracy']\n",
        "\n",
        "#early_stop\n",
        "num_epochs = 10\n",
        "early_stop_patience = 3\n",
        "\n",
        "step_per_epoch_training = 10\n",
        "step_per_epoch_validation = 10 \n",
        "\n",
        "batch_size_training = 100\n",
        "batch_size_validation = 100\n",
        "\n",
        "batch_size_testing = 1\n",
        "\n",
        "#Step model making\n",
        "\n",
        "model = Sequential()\n",
        "model.add(ResNet50(include_top = False, pooling = resnet_pooling_average))\n",
        "model.add(Dense(Num_classes, activation = dense_layer_activation))\n",
        "\n",
        "for layer in model.layers:\n",
        "  layer.trainable = False\n",
        "\n",
        "#Step model compiler\n",
        "\n",
        "from tensorflow.keras import optimizers\n",
        "\n",
        "model.compile(optimizer = 'adam', loss = objective_function, metrics = loss_metrics)\n",
        "\n",
        " "
      ],
      "execution_count": 1,
      "outputs": [
        {
          "output_type": "stream",
          "text": [
            "Downloading data from https://storage.googleapis.com/tensorflow/keras-applications/resnet/resnet50_weights_tf_dim_ordering_tf_kernels_notop.h5\n",
            "94773248/94765736 [==============================] - 1s 0us/step\n"
          ],
          "name": "stdout"
        }
      ]
    },
    {
      "cell_type": "code",
      "metadata": {
        "id": "dA_ZeUPc8aPk"
      },
      "source": [
        "#try\n",
        "from sklearn.model_selection import train_test_split\n",
        "\n",
        "x = np.array([i[0] for i in datasets]).reshape(-1,image_size,image_size,3)\n",
        "y = np.array([i[1] for i in datasets])\n",
        "\n",
        "x_train,x_test,y_train,y_test = train_test_split(x,y, test_size= 0.2, random_state= 42)\n",
        "\n",
        "history = model.fit(x_train,y_train,batch_size=32,epochs=1,validation_data=(x_test,y_test),\n",
        "                    verbose=1) #,callbacks=[checkpoint,earlystop])"
      ],
      "execution_count": null,
      "outputs": []
    },
    {
      "cell_type": "code",
      "metadata": {
        "colab": {
          "base_uri": "https://localhost:8080/"
        },
        "id": "mxiTOyXZCWRH",
        "outputId": "46781ad0-8413-4bbb-c438-cbf5fe326bfa"
      },
      "source": [
        "model.summary()"
      ],
      "execution_count": 20,
      "outputs": [
        {
          "output_type": "stream",
          "text": [
            "Model: \"sequential\"\n",
            "_________________________________________________________________\n",
            "Layer (type)                 Output Shape              Param #   \n",
            "=================================================================\n",
            "resnet50 (Functional)        (None, 2048)              23587712  \n",
            "_________________________________________________________________\n",
            "dense (Dense)                (None, 8)                 16392     \n",
            "=================================================================\n",
            "Total params: 23,604,104\n",
            "Trainable params: 0\n",
            "Non-trainable params: 23,604,104\n",
            "_________________________________________________________________\n"
          ],
          "name": "stdout"
        }
      ]
    },
    {
      "cell_type": "code",
      "metadata": {
        "id": "pd95zqMBlPPg"
      },
      "source": [
        "x = np.array([i[0] for i in dataset]).reshape(-1,image_size,image_size,3)\n",
        "y = np.array([i[1] for i in dataset])"
      ],
      "execution_count": null,
      "outputs": []
    },
    {
      "cell_type": "code",
      "metadata": {
        "id": "KsFEHriyxYVD",
        "colab": {
          "base_uri": "https://localhost:8080/"
        },
        "outputId": "8649837e-357e-4218-ed93-21cb08abd00d"
      },
      "source": [
        "from sklearn.model_selection import train_test_split\n",
        "\n",
        "train_data, validation_data = train_test_split(dataset, test_size= 0.2, random_state= 42)\n",
        "\n",
        "train_data.shape, validation_data.shape"
      ],
      "execution_count": null,
      "outputs": [
        {
          "output_type": "execute_result",
          "data": {
            "text/plain": [
              "((2800, 15), (700, 15))"
            ]
          },
          "metadata": {
            "tags": []
          },
          "execution_count": 5
        }
      ]
    },
    {
      "cell_type": "code",
      "metadata": {
        "id": "_fZ2Y4Bvoe7W"
      },
      "source": [
        "#번외편 이미지 한번 눈으로 확인해보기\n",
        "%matplotlib inline\n",
        "\n",
        "# import matplotlib.image as mpimg\n",
        "# import matplotlib.pyplot as plt\n",
        "\n",
        "# nrows, ncols = 4, 4\n",
        "# pic_index = 0\n",
        "\n",
        "# fig = plt.gcf()\n",
        "# fig.set_size_inches(ncols*3, nrows*3)\n",
        "\n",
        "# pic_index+=8\n",
        "\n",
        "# next_ocular_pix = [os.path.join(train_dir, fname)\n",
        "#                 for fname in train_fname[pic_index-8:pic_index]]\n",
        "\n",
        "# for i, img_path in enumerate(next_ocular_pix):\n",
        "#   sp = plt.subplot(nrows, ncols, i + 1)\n",
        "#   sp.axis('Off')\n",
        "#   img = mpimg.imread(img_path)\n",
        "#   plt.imshow(img)\n",
        "\n",
        "# plt.show()"
      ],
      "execution_count": null,
      "outputs": []
    },
    {
      "cell_type": "code",
      "metadata": {
        "id": "N4HTbgUBZFKY"
      },
      "source": [
        "# Step input image resize & augmentation\n",
        "\n",
        "from keras.applications.resnet50 import preprocess_input\n",
        "from keras.preprocessing.image import ImageDataGenerator\n",
        "\n",
        "data_generator = ImageDataGenerator(\n",
        "    rescale = 1.0/255.,\n",
        "    preprocessing_function = preprocess_input,\n",
        "    featurewise_center = True,\n",
        "    featurewise_std_normalization = True,\n",
        "    rotation_state = 20,\n",
        "    width_sift_range = 0.2,\n",
        "    height_shift_range = 0.2,\n",
        "    horizontal_flip = True)\n",
        "\n",
        "train_generator = data_generator.flow_from_directory(trainset_dir,\n",
        "                                                     batch_size = batch_size_training,\n",
        "                                                     class_mode = 'categorical')\n",
        "\n",
        "validation_gen = ImageDataGenerator( rescale = 1.0/255.)\n",
        "validation_generator = validation_gen.flow_from_directory(validation_dir,\n",
        "                                                         batch_size = batch_size_training,\n",
        "                                                         class_mode = 'categorical')"
      ],
      "execution_count": null,
      "outputs": []
    },
    {
      "cell_type": "code",
      "metadata": {
        "id": "GrFgad0sBV6W"
      },
      "source": [
        "history = model.fit(x_train,y_train,batch_size=32,epochs=1,validation_data=(x_test,y_test),\n",
        "                    verbose=1) #,callbacks=[checkpoint,earlystop])"
      ],
      "execution_count": null,
      "outputs": []
    },
    {
      "cell_type": "code",
      "metadata": {
        "id": "H3mKsYwzquBS"
      },
      "source": [
        "data_generator.fit(train_images)"
      ],
      "execution_count": null,
      "outputs": []
    },
    {
      "cell_type": "code",
      "metadata": {
        "id": "VIu85TBSacaJ"
      },
      "source": [
        "#Step model learning\n",
        "# model.fit(data_generator.flow(train_images, train_label, batch_size = 32), step_per_epoch = len(train_images)/ 32, epochs= num_epochs)"
      ],
      "execution_count": null,
      "outputs": []
    }
  ]
}